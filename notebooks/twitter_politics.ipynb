{
 "metadata": {
  "name": "",
  "signature": "sha256:f317a324a76029423eb6c550ddafd4b42e83389b70e60e3a04c2b7c626c048b6"
 },
 "nbformat": 3,
 "nbformat_minor": 0,
 "worksheets": [
  {
   "cells": [
    {
     "cell_type": "markdown",
     "metadata": {},
     "source": [
      "# Using twitter to assess political strategy and position\n",
      "\n",
      "In this notebook we'll explore the twitter networks of both \n",
      "sides of US political aisle: [TheDemocrats](https://twitter.com/TheDemocrats) \n",
      "and the [GOP](https://twitter.com/GOP).\n",
      "\n",
      "We'll identify like minded political and social interest communities, and use these \n",
      "communities as latent features (landmarks) to quantify relatedness.\n",
      "\n",
      "What can this data really tell us? Our world is messy and \n",
      "complicated. Online social networks like twitter and facebook are \n",
      "representative of our world in the same way much of our fiction, media, and \n",
      "dare I say non-fiction are representative, they're biased distortions\n",
      "of a beautifully complex reality. With this in mind, the internet marks a huge \n",
      "leap in the availability of social (albeit distorted) information. \n",
      "Your author remains curious and optimistic about what this distorted lens can teach us \n",
      "about ourselves and the chaotic world we inhabit.\n",
      "\n",
      "This notebook depends on:\n",
      "\n",
      " - [GraphLab create](http://dato.com/products/create/index.html)\n",
      " - [The map equation](http://arxiv.org/abs/0906.1405)\n",
      " - [Relaxmap](http://uwescience.github.io/RelaxMap/)\n",
      " - [GraphReduce](https://github.com/timmytw/graphreduce)\n",
      "\n",
      "This gets you everything you need:\n",
      "\n",
      "```shell\n",
      "$ git clone https://github.com/timmytw/graphreduce.git\n",
      "\n",
      "$ cd graphreduce/; pip install -r requirements.txt\n",
      "```"
     ]
    },
    {
     "cell_type": "code",
     "collapsed": false,
     "input": [
      "import os, math, inspect\n",
      "from operator import mul\n",
      "import graphlab as gl\n",
      "from graphreduce.graph_wrapper import GraphWrapper"
     ],
     "language": "python",
     "metadata": {},
     "outputs": [],
     "prompt_number": 1
    },
    {
     "cell_type": "markdown",
     "metadata": {},
     "source": [
      "## Getting started\n",
      "\n",
      "We'll start by downloading the combined preassembled 2 degree ego networks of \n",
      "[TheDemocrats](https://twitter.com/TheDemocrats) and the \n",
      "[GOP](https://twitter.com/GOP).\n",
      "Once we have the combined network we'll mine it for compression patterns (communities).\n",
      "This will be the \n",
      "most time consuming part of our exercise, it takes roughly 4 mins \n",
      "on my magnetic drive / 8gb ram / i7 laptop."
     ]
    },
    {
     "cell_type": "code",
     "collapsed": false,
     "input": [
      "this_dir = os.path.dirname(os.path.abspath(inspect.getfile(inspect.currentframe())))\n",
      "cache_dir = this_dir+'/.twitter_politics/'\n",
      "if os.path.exists(cache_dir+'parent'):\n",
      "    gw = GraphWrapper.from_previous_reduction(cache_dir)\n",
      "else:\n",
      "    v_path = 'http://static.smarttypes.org/static/graphreduce/test_data/TheDemocrats_GOP.vertex.csv.gz'\n",
      "    e_path = 'http://static.smarttypes.org/static/graphreduce/test_data/TheDemocrats_GOP.edge.csv.gz'\n",
      "    gw, mdls = GraphWrapper.reduce(v_path, e_path)\n",
      "    if not os.path.exists(cache_dir):\n",
      "        os.makedirs(cache_dir)\n",
      "    gw.save(cache_dir)"
     ],
     "language": "python",
     "metadata": {},
     "outputs": [
      {
       "output_type": "stream",
       "stream": "stderr",
       "text": [
        "[INFO] Start server at: ipc:///tmp/graphlab_server-22836 - Server binary: /home/timmyt/.virtualenvs/graphreduce/lib/python2.7/site-packages/graphlab/unity_server - Server log: /tmp/graphlab_server_1422219347.log\n"
       ]
      },
      {
       "output_type": "stream",
       "stream": "stderr",
       "text": [
        "[INFO] GraphLab Server Version: 1.2.1\n"
       ]
      }
     ],
     "prompt_number": 3
    },
    {
     "cell_type": "markdown",
     "metadata": {},
     "source": [
      "## Network community detection\n",
      "OK, what happened? We discovered compression patterns in our network, \n",
      "pockets of dense vertex interlinking.\n",
      "In practice, as we'll see, twitter accounts with similar interests / \n",
      "motivations tend to follow each other.\n",
      "\n",
      "The topic of network based community detection is broad and deep. It has \n",
      "many applications outside social network analysis, the network abstraction is\n",
      "used to model many of the world's most complex problems.\n",
      "As you might imagine network compression / pattern recognition has a fertile litter of applications.\n",
      "The method here, \n",
      "[the map equation](http://arxiv.org/abs/0906.1405),\n",
      "uses information theory to quantify compression of a random walk.\n",
      "[Relaxmap](http://uwescience.github.io/RelaxMap/), the library used here, \n",
      "is a parallel implementation of the map equation objective.\n",
      "\n",
      "Using account descriptions, the method also tagged / labeled the communities. \n",
      "These tags allow use to search and get a quick idea of the collective interests \n",
      "of a community. The tagging procedure uses [tf-idf](http://en.wikipedia.org/wiki/Tf-idf)\n",
      "Let's take a look at the most popular communities, order by pagerank."
     ]
    },
    {
     "cell_type": "code",
     "collapsed": false,
     "input": [
      "min_members = 25\n",
      "communities = gw.g.get_vertices()\n",
      "communities = communities[communities['member_count'] >= min_members]\n",
      "communities['pr'] = communities['pr'] / communities['pr'].max()\n",
      "print 'Popular communities:'\n",
      "for x in communities.sort('pr', ascending=False)[:10]:\n",
      "    print ' - ', str(x['pr'])[:4], x['member_count'], x['top_labels']"
     ],
     "language": "python",
     "metadata": {},
     "outputs": [
      {
       "output_type": "stream",
       "stream": "stdout",
       "text": [
        "Popular communities:\n",
        " - "
       ]
      },
      {
       "output_type": "stream",
       "stream": "stdout",
       "text": [
        " 1.0 8878 ['editor', 'cnn', 'politics', 'correspondent', 'reporter']\n",
        " -  0.95 2648 ['actor', 'actress', 'official', 'twitter', 'writer']\n",
        " -  0.76 988 ['founder', 'tech', 'ceo', 'marketing', 'technology']\n",
        " -  0.74 6331 ['conservative', 'tcot', 'christian', 'liberty', 'libertarian']\n",
        " -  0.73 751 ['official', 'endorsement', 'archived', 'military', 'twitter']\n",
        " -  0.66 1275 ['football', 'espn', 'sports', 'official', 'twitter']\n",
        " -  0.56 199 ['world', 'global', 'poverty', 'nations', 'international']\n",
        " -  0.54 1365 ['uniteblue', 'liberal', 'progressive', 'obama', 'p2']\n",
        " -  0.51 214 ['food', 'chef', 'cook', 'restaurant', 'author']\n",
        " -  0.49 531 ['organizing', 'action', 'volunteers', 'maintained', 'account']\n"
       ]
      }
     ],
     "prompt_number": 6
    },
    {
     "cell_type": "markdown",
     "metadata": {},
     "source": [
      "Let's look @ communities close to the respective parties."
     ]
    },
    {
     "cell_type": "code",
     "collapsed": false,
     "input": [
      "def reciprocal_interest(scores):\n",
      "    def _score(row):\n",
      "        return row['user_interest'] * row['community_interest']\n",
      "    return scores.apply(_score)\n",
      "\n",
      "user_community_scores = gw.child.user_community_scores(reciprocal_interest, min_members)\n",
      "\n",
      "def users_top_communities(user_id, scores):\n",
      "    user_scores = scores[scores['user_id'] == user_id]\n",
      "    user_scores = user_scores.join(communities, {'community_id':'__id'})\n",
      "    user_scores.remove_column('community_id.1')\n",
      "    return user_scores.sort('score', ascending=False)\n",
      "\n",
      "print 'DNC communities:'\n",
      "dem_id = '14377605'\n",
      "dem_communities = users_top_communities(dem_id, user_community_scores)\n",
      "for x in dem_communities[:10]:\n",
      "    print ' - ', str(x['score'])[:4], x['member_count'], x['top_labels']\n",
      "print ''\n",
      "\n",
      "print 'RNC communities:'\n",
      "rep_id = '11134252'\n",
      "rep_communities = users_top_communities(rep_id, user_community_scores)\n",
      "for x in rep_communities[:10]:\n",
      "    print ' - ', str(x['score'])[:4], x['member_count'], x['top_labels']"
     ],
     "language": "python",
     "metadata": {},
     "outputs": [
      {
       "output_type": "stream",
       "stream": "stdout",
       "text": [
        "DNC communities:\n",
        " - "
       ]
      },
      {
       "output_type": "stream",
       "stream": "stdout",
       "text": [
        " 3.21 531 ['organizing', 'action', 'volunteers', 'maintained', 'account']\n",
        " -  3.21 303 ['democrats', 'college', 'collegedems', 'university', 'democratic']\n",
        " -  3.03 8878 ['editor', 'cnn', 'politics', 'correspondent', 'reporter']\n",
        " -  0.27 319 ['pa', 'pennsylvania', 'pittsburgh', 'county', 'state']\n",
        " -  0.26 379 ['massachusetts', 'ma', 'boston', 'mapoli', 'state']\n",
        " -  0.21 1365 ['uniteblue', 'liberal', 'progressive', 'obama', 'p2']\n",
        " -  0.19 685 ['texas', 'dallas', 'austin', 'state', 'houston']\n",
        " -  0.18 405 ['seattle', 'washington', 'wa', 'state', 'king']\n",
        " -  0.17 342 ['ohio', 'columbus', 'state', 'dayton', 'cincinnati']\n",
        " -  0.16 138 ['maryland', 'baltimore', 'treasurer', 'authority', 'friends']\n",
        "\n",
        "RNC communities:\n",
        " - "
       ]
      },
      {
       "output_type": "stream",
       "stream": "stdout",
       "text": [
        " 3.21 6331 ['conservative', 'tcot', 'christian', 'liberty', 'libertarian']\n",
        " -  2.61 8878 ['editor', 'cnn', 'politics', 'correspondent', 'reporter']\n",
        " -  2.60 590 ['district', 'congressional', 'representing', 'congressman', 'proudly']\n",
        " -  0.11 405 ['virginia', 'va', 'richmond', 'district', 'delegates']\n",
        " -  0.10 532 ['florida', 'tampa', 'jacksonville', 'miami', 'political']\n",
        " -  0.09 346 ['iowa', 'moines', 'des', 'ia', 'iowan']\n",
        " -  0.07 238 ['minnesota', 'mn', 'minneapolis', 'startribune', 'paul']\n",
        " -  0.06 291 ['nh', 'hampshire', 'state', 'manchester', 'granite']\n",
        " -  0.05 685 ['texas', 'dallas', 'austin', 'state', 'houston']\n",
        " -  0.05 126 ['sc', 'carolina', 'south', 'postandcourier', 'columbia']\n"
       ]
      }
     ],
     "prompt_number": 7
    },
    {
     "cell_type": "markdown",
     "metadata": {},
     "source": [
      "## What can we glean from this?\n",
      "\n",
      "The 'score' here is the product of user_interest and community_interest.\n",
      "Twitter is a directed network, our objective function rewards relationships \n",
      "where an account follows many people in a community and many people in the \n",
      "community follow the account, a reciprocal_interest function.\n",
      "\n",
      "What can we glean from this? I'm not really sure. But there are a few things worth \n",
      "mentioning.\n",
      "\n",
      "The DNC is aligned heavily with volunteers, colleges, and the news media.\n",
      "And then, to a less extent, supportive and swing states.\n",
      "\n",
      "The RNC is aligned primarily with conservatives, the media (less than \n",
      "the DNC), and with congress accounts. \n",
      "After this a mix of support and swing states.\n",
      "\n",
      "We'll use the communities closest to each party as features (landmarks) to gauge distance \n",
      "between the DNC / RNC and all other accounts in our dataset. \n",
      "Let's look at accounts similar to the respective parties."
     ]
    },
    {
     "cell_type": "code",
     "collapsed": false,
     "input": [
      "def users_top_users(user_id, scores, feature_ids):\n",
      "    assert scores['score'].min() >= 0\n",
      "    scores = scores.groupby('user_id', \n",
      "        {'score':gl.aggregate.CONCAT('community_id', 'score')},\n",
      "        {'num_features':gl.aggregate.COUNT('community_id')})\n",
      "    scores = scores[scores['num_features'] > len(feature_ids) * .20]\n",
      "    user_score = scores[scores['user_id'] == user_id][0]\n",
      "    def distance(row):\n",
      "        total_distance = 0\n",
      "        for x in feature_ids:\n",
      "            score1 = user_score['score'].get(x)\n",
      "            score2 = row['score'].get(x)\n",
      "            if score1 and score2:\n",
      "                dis = abs(score1 - score2)\n",
      "            elif score1 or score2:\n",
      "                dis = (score1 or score2) * 2\n",
      "            else:\n",
      "                dis = 0\n",
      "            total_distance+=dis\n",
      "        return total_distance\n",
      "    scores['distance'] = scores.apply(distance)\n",
      "    scores = scores.join(gw.verticy_descriptions, {'user_id':'__id'})\n",
      "    scores['distance'] = (scores['distance'] - scores['distance'].mean()) \\\n",
      "        / (scores['distance'].std())\n",
      "    return scores.sort('distance')\n",
      "\n",
      "feature_ids = list(rep_communities['community_id'][:5])\n",
      "feature_ids += list(dem_communities['community_id'][:5])\n",
      "feature_ids = list(set(feature_ids))\n",
      "\n",
      "print 'Accounts similar to the DNC:'\n",
      "dem_users = users_top_users(dem_id, user_community_scores, feature_ids)\n",
      "for x in dem_users[:10]:\n",
      "    print ' - ', str(x['distance'])[:4], x['screen_name'], '-', x['description'][:75]\n",
      "print ''\n",
      "\n",
      "print 'Accounts similar to the RNC:'\n",
      "rep_users = users_top_users(rep_id, user_community_scores, feature_ids)\n",
      "for x in rep_users[:10]:\n",
      "    print ' - ', str(x['distance'])[:4], x['screen_name'], '-', x['description'][:75]"
     ],
     "language": "python",
     "metadata": {},
     "outputs": [
      {
       "output_type": "stream",
       "stream": "stdout",
       "text": [
        "Accounts similar to the DNC:\n",
        " - "
       ]
      },
      {
       "output_type": "stream",
       "stream": "stdout",
       "text": [
        " -4.9 TheDemocrats - This is the official Twitter account of the Democratic Party. Follow our tw\n",
        " -  -4.1 CollegeDems - College Democrats of America | The official youth branch of the Democratic \n",
        " -  -3.7 dscc - Democratic Senatorial Campaign Committee | Committed to Electing a Democrat\n",
        " -  -3.6 jeremybird - Founding Partner w @270Strategies; Senior Advisor w @BGTX; Former National \n",
        " -  -3.6 OFA_HQ - \n",
        " -  -3.6 DWStweets - Congresswoman Debbie Wasserman Schultz of Florida. Chair of @TheDemocrats (\n",
        " -  -3.5 Messina2012 - 2012 Obama Campaign Manager, former White House Deputy Chief of Staff. Prou\n",
        " -  -3.4 Clyburn - Rep. Clyburn is the Assistant Democratic Leader, the number three Democrat \n",
        " -  -3.4 SenGillibrand - U.S. Senator from New York\n",
        " -  -3.3 GabbyGiffords - Proudly served Arizona's 8th District in the United States Congress 2007-20\n",
        "\n",
        "Accounts similar to the RNC:\n",
        " - "
       ]
      },
      {
       "output_type": "stream",
       "stream": "stdout",
       "text": [
        " -3.8 GOP - Updates from the Republican National Committee.\n",
        " -  -3.5 SenRandPaul - I fight for the Constitution, individual liberty and the freedoms that make\n",
        " -  -3.4 DailyCaller - Politics, entertainment, slideshows. You're welcome.\n",
        " -  -3.4 PRyan - Husband; Proud father of 3; Wisconsinite; Go Pack Go!\n",
        " -  -3.4 SpeakerBoehner - Official Twitter account for U.S. House Speaker John Boehner (R-OH)\n",
        " -  -3.3 Senate_GOPs - News and updates from Republican senators and their staff.\n",
        " -  -3.1 megynkelly - Happily married to Doug, crazy in love with my children Yates, Yardley, and\n",
        " -  -3.1 TomCoburn - Senator from Oklahoma, fighting against wasteful Washington spending\n",
        " -  -3.1 MittRomney - Former Governor of Massachusetts\n",
        " -  -3.1 johnboehner - I represent Ohio's 8th Congressional District and serve as Speaker of the H\n"
       ]
      }
     ],
     "prompt_number": 9
    },
    {
     "cell_type": "markdown",
     "metadata": {},
     "source": [
      "## Accounts of interest to both sides\n",
      "\n",
      "Now lets look for accounts of interest to both the DNC and RNC, so called swing accounts."
     ]
    },
    {
     "cell_type": "code",
     "collapsed": false,
     "input": [
      "def users_in_between(distances):\n",
      "    n_dimensions = len(distances)\n",
      "    _distances = distances[0]\n",
      "    for x in distances[1:]:\n",
      "        _distances = _distances.append(x)\n",
      "    distances = _distances\n",
      "    distances = distances.groupby('user_id', {'distances':gl.aggregate.CONCAT('distance')})\n",
      "    def between(row):\n",
      "        if len(row['distances']) != n_dimensions:\n",
      "            return None\n",
      "        x = gl.SArray(row['distances'])\n",
      "        if x.std() > .15:\n",
      "            return None\n",
      "        return x.mean() + x.std()\n",
      "    distances['distance'] = distances.apply(between)\n",
      "    distances = distances.dropna().join(gw.verticy_descriptions, {'user_id':'__id'})\n",
      "    return distances.sort('distance')\n",
      "\n",
      "print \"Of interest to the DNC and RNC:\"\n",
      "equidistant_users = users_in_between([dem_users, rep_users])\n",
      "for x in equidistant_users[:10]:\n",
      "    print ' - ', x['screen_name'], '-', x['description'][:100]"
     ],
     "language": "python",
     "metadata": {},
     "outputs": [
      {
       "output_type": "stream",
       "stream": "stdout",
       "text": [
        "Of interest to the DNC and RNC:\n",
        " - "
       ]
      },
      {
       "output_type": "stream",
       "stream": "stdout",
       "text": [
        " postpolitics - The latest political news and analysis from The Washington Post.\n",
        " -  DavidMDrucker - @dcexaminer Senior Congressional Correspondent covering Capitol Hill, campaigns & national political\n",
        " -  chucktodd - Moderator of @meetthepress and @nbcnews political director; Covering politics since '92; And, yes, I\n",
        " -  DanielStrauss4 - @TPM reporter. RTs \u2260 endorsements. E-mail: daniel@talkingpointsmemo.com\n",
        " -  sppeoples - NH native who covers national politics for The Associated Press, bleeds with New England sports fans\n",
        " -  JamesPindell - Political reporter for The Boston Globe focused on presidential primaries. Political analyst for WMU\n",
        " -  katiezez - @washingtonpost White House correspondent. @nytimes Boston bureau, @AP New Jersey, @UMKnightWallace \n",
        " -  SteveScully - C-SPAN's Political Editor, Senior Executive Producer & Host - Washington Journal & other C-SPAN prog\n",
        " -  nedrapickler - White House reporter for The Associated Press and a proud native of Flint, Michigan\n",
        " -  CHueyBurnsRCP - Political Reporter for RealClearPolitics Email: Chueyburns@RealClearPolitics.com\n"
       ]
      }
     ],
     "prompt_number": 13
    },
    {
     "cell_type": "code",
     "collapsed": false,
     "input": [],
     "language": "python",
     "metadata": {},
     "outputs": []
    }
   ],
   "metadata": {}
  }
 ]
}