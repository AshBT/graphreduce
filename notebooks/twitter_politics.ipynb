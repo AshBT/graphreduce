{
 "metadata": {
  "name": "",
  "signature": "sha256:48c3a68cc989758b39376ea260036188084dbae14da8af9c9b8624000116f03e"
 },
 "nbformat": 3,
 "nbformat_minor": 0,
 "worksheets": [
  {
   "cells": [
    {
     "cell_type": "markdown",
     "metadata": {},
     "source": [
      "# Using twitter to assess political strategy and position\n",
      "\n",
      "In this notebook we'll explore the twitter networks of both \n",
      "sides of US political aisle: [TheDemocrats](https://twitter.com/TheDemocrats) \n",
      "and the [GOP](https://twitter.com/GOP).\n",
      "\n",
      "We'll identify like minded political and social interest communities, and use these \n",
      "communities as landmarks to map social positioning.\n",
      "\n",
      "### What can this data really tell us? \n",
      "\n",
      "Our world is messy and complicated. \n",
      "Online social networks, like media and communication, \n",
      "are crude representations of a beautifully complex reality. \n",
      "The internet thought marks a huge \n",
      "jump in the availability of social information. \n",
      "Your author remains curious and optimistic about what this distorted lens can teach us \n",
      "about ourselves and how we make sense of the chaotic world we inhabit.\n",
      "\n",
      "This notebook depends on:\n",
      "\n",
      " - [GraphLab create](http://dato.com/products/create/index.html)\n",
      " - [The map equation](http://arxiv.org/abs/0906.1405)\n",
      " - [Relaxmap](http://uwescience.github.io/RelaxMap/)\n",
      " - [GraphReduce](https://github.com/timmytw/graphreduce)\n",
      "\n",
      "This will get you everything you need:\n",
      "\n",
      "```\n",
      " $ git clone https://github.com/timmytw/graphreduce.git\n",
      "\n",
      " $ cd graphreduce/; pip install -r requirements.txt\n",
      "```"
     ]
    },
    {
     "cell_type": "code",
     "collapsed": false,
     "input": [
      "import os, math, inspect\n",
      "from IPython.core.display import HTML\n",
      "from operator import mul\n",
      "import graphlab as gl\n",
      "from graphreduce.graph_wrapper import GraphWrapper"
     ],
     "language": "python",
     "metadata": {},
     "outputs": [],
     "prompt_number": 30
    },
    {
     "cell_type": "markdown",
     "metadata": {},
     "source": [
      "## Getting started\n",
      "\n",
      "We'll start by downloading a preassembled 2 degree ego network of \n",
      "[TheDemocrats](https://twitter.com/TheDemocrats) and the \n",
      "[GOP](https://twitter.com/GOP).\n",
      "Once we have the network, we'll mine it for compression patterns (communities).\n",
      "\n",
      "This will be the most time consuming part of our exercise, it takes roughly 6.5 mins \n",
      "on my magnetic drive / 8gb ram / i7 laptop.\n"
     ]
    },
    {
     "cell_type": "code",
     "collapsed": false,
     "input": [
      "this_dir = os.path.dirname(os.path.abspath(inspect.getfile(inspect.currentframe())))\n",
      "cache_dir = this_dir+'/.twitter_politics/'\n",
      "if os.path.exists(cache_dir+'parent'):\n",
      "    gw = GraphWrapper.from_previous_reduction(cache_dir)\n",
      "else:\n",
      "    v_path = 'http://static.smarttypes.org/static/graphreduce/test_data/TheDemocrats_GOP.vertex.csv.gz'\n",
      "    e_path = 'http://static.smarttypes.org/static/graphreduce/test_data/TheDemocrats_GOP.edge.csv.gz'\n",
      "    gw, mdls = GraphWrapper.reduce(v_path, e_path)\n",
      "    if not os.path.exists(cache_dir):\n",
      "        os.makedirs(cache_dir)\n",
      "    gw.save(cache_dir)\n"
     ],
     "language": "python",
     "metadata": {},
     "outputs": [
      {
       "output_type": "stream",
       "stream": "stdout",
       "text": [
        "\n",
        "---------------------------------------------\n",
        "Top level detection, 1 partition(s)\n",
        "---------------------------------------------\n",
        " - partition 1 of 1, v_count: 1581"
       ]
      },
      {
       "output_type": "stream",
       "stream": "stdout",
       "text": [
        "\n",
        "   + found 13 communities, mdl: 9.91933"
       ]
      },
      {
       "output_type": "stream",
       "stream": "stdout",
       "text": [
        "\n",
        "\n",
        "---------------------------------------------"
       ]
      },
      {
       "output_type": "stream",
       "stream": "stdout",
       "text": [
        "\n",
        "Bottom level detection, 1 partition(s)\n",
        "---------------------------------------------\n",
        " - partition 1 of 1, v_count: 37012\n",
        "   + found 380 communities, mdl: 13.8448"
       ]
      },
      {
       "output_type": "stream",
       "stream": "stdout",
       "text": [
        "\n",
        "\n",
        "---------------------------------------------"
       ]
      },
      {
       "output_type": "stream",
       "stream": "stdout",
       "text": [
        "\n",
        "Top level detection, 1 partition(s)\n",
        "---------------------------------------------\n",
        " - partition 1 of 1, v_count: 380"
       ]
      },
      {
       "output_type": "stream",
       "stream": "stdout",
       "text": [
        "\n",
        "   + found 1 communities, mdl: 8.06664"
       ]
      },
      {
       "output_type": "stream",
       "stream": "stdout",
       "text": [
        "\n"
       ]
      },
      {
       "output_type": "stream",
       "stream": "stdout",
       "text": [
        "\n",
        "[13.8448]\n",
        "total runtime: 0:06:34.098828\n"
       ]
      }
     ],
     "prompt_number": 17
    },
    {
     "cell_type": "markdown",
     "metadata": {},
     "source": [
      "## Network community detection\n",
      "OK, what happened?\n",
      "\n",
      "The topic of network community detection is broad and deep. It has \n",
      "many applications outside of social analysis, the network abstraction \n",
      "is used to model many of our more complicated problems.\n",
      "The method here, \n",
      "[the map equation](http://arxiv.org/abs/0906.1405),\n",
      "uses information theory to quantify the compression of a random walk.\n",
      "[Relaxmap](http://uwescience.github.io/RelaxMap/) \n",
      "is a parallel implementation of the map equation objective.\n",
      "\n",
      "GraphWrapper.reduce also tags communities, allowing use to get a quick idea of \n",
      "the collective interests of a community. The tagging procedure \n",
      "uses [tf-idf](http://en.wikipedia.org/wiki/Tf-idf).\n",
      "\n",
      "Let's take a look at the most popular communities, order by pagerank:"
     ]
    },
    {
     "cell_type": "code",
     "collapsed": false,
     "input": [
      "min_members = 25\n",
      "communities = gw.g.get_vertices()\n",
      "communities = communities[communities['member_count'] >= min_members]\n",
      "communities['pr'] = communities['pr'] / communities['pr'].max()\n",
      "print '\\nPopular communities:'\n",
      "for x in communities.sort('pr', ascending=False)[:10]:\n",
      "    print ' - ', str(x['pr'])[:4], x['member_count'], x['top_labels']"
     ],
     "language": "python",
     "metadata": {},
     "outputs": [
      {
       "output_type": "stream",
       "stream": "stdout",
       "text": [
        "\n",
        "Popular communities:\n",
        " - "
       ]
      },
      {
       "output_type": "stream",
       "stream": "stdout",
       "text": [
        " 1.0 11946 ['editor', 'politics', 'political', 'director', 'reporter']\n",
        " -  0.75 2619 ['actor', 'official', 'twitter', 'actress', 'writer']\n",
        " -  0.59 990 ['founder', 'tech', 'ceo', 'marketing', 'technology']\n",
        " -  0.59 725 ['official', 'endorsement', 'archived', 'twitter', 'military']\n",
        " -  0.54 4548 ['conservative', 'tcot', 'christian', 'liberty', 'libertarian']\n",
        " -  0.51 1239 ['espn', 'football', 'official', 'sports', 'twitter']\n",
        " -  0.48 1354 ['uniteblue', 'liberal', 'progressive', 'obama', 'p2']\n",
        " -  0.47 326 ['food', 'travel', 'chef', 'official', 'restaurant']\n",
        " -  0.46 185 ['world', 'global', 'international', 'nations', 'poverty']\n",
        " -  0.42 326 ['organizing', 'action', 'volunteers', 'maintained', 'ofa']\n"
       ]
      }
     ],
     "prompt_number": 23
    },
    {
     "cell_type": "markdown",
     "metadata": {},
     "source": [
      "##Left and right communities\n",
      "\n",
      "Let's look at communities close to the respective parties:"
     ]
    },
    {
     "cell_type": "code",
     "collapsed": false,
     "input": [
      "def reciprocal_interest(scores):\n",
      "    def _score(row):\n",
      "        return row['user_interest'] * row['community_interest']\n",
      "    return scores.apply(_score)\n",
      "\n",
      "user_community_scores = gw.child.user_community_scores(reciprocal_interest, min_members)\n",
      "\n",
      "def users_top_communities(user_id, scores):\n",
      "    user_scores = scores[scores['user_id'] == user_id]\n",
      "    user_scores = user_scores.join(communities, {'community_id':'__id'})\n",
      "    user_scores.remove_column('community_id.1')\n",
      "    return user_scores.sort('score', ascending=False)\n",
      "\n",
      "print '\\nDNC communities:'\n",
      "dem_id = '14377605'\n",
      "dem_communities = users_top_communities(dem_id, user_community_scores)\n",
      "for x in dem_communities[:10]:\n",
      "    print ' - ', str(x['score'])[:4], x['member_count'], x['top_labels']\n",
      "print ''\n",
      "\n",
      "print 'RNC communities:'\n",
      "rep_id = '11134252'\n",
      "rep_communities = users_top_communities(rep_id, user_community_scores)\n",
      "for x in rep_communities[:10]:\n",
      "    print ' - ', str(x['score'])[:4], x['member_count'], x['top_labels']"
     ],
     "language": "python",
     "metadata": {},
     "outputs": [
      {
       "output_type": "stream",
       "stream": "stdout",
       "text": [
        "\n",
        "DNC communities:\n",
        " - "
       ]
      },
      {
       "output_type": "stream",
       "stream": "stdout",
       "text": [
        " 3.34 11946 ['editor', 'politics', 'political', 'director', 'reporter']\n",
        " -  3.34 326 ['organizing', 'action', 'volunteers', 'maintained', 'ofa']\n",
        " -  3.34 289 ['democrats', 'college', 'collegedems', 'university', 'official']\n",
        " -  0.27 312 ['pa', 'pennsylvania', 'pittsburgh', 'county', 'state']\n",
        " -  0.26 374 ['massachusetts', 'boston', 'ma', 'mapoli', 'state']\n",
        " -  0.21 1354 ['uniteblue', 'liberal', 'progressive', 'obama', 'p2']\n",
        " -  0.19 695 ['texas', 'dallas', 'austin', 'state', 'houston']\n",
        " -  0.18 403 ['seattle', 'washington', 'wa', 'state', 'king']\n",
        " -  0.16 327 ['ohio', 'columbus', 'state', 'dayton', 'cincinnati']\n",
        " -  0.16 543 ['michigan', 'detroit', 'migop', 'state', 'mi']\n",
        "\n",
        "RNC communities:\n",
        " - "
       ]
      },
      {
       "output_type": "stream",
       "stream": "stdout",
       "text": [
        " 3.34 11946 ['editor', 'politics', 'political', 'director', 'reporter']\n",
        " -  2.90 4548 ['conservative', 'tcot', 'christian', 'liberty', 'libertarian']\n",
        " -  0.11 535 ['florida', 'jacksonville', 'tampa', 'political', 'fl']\n",
        " -  0.09 394 ['virginia', 'va', 'richmond', 'district', 'delegates']\n",
        " -  0.08 325 ['iowa', 'moines', 'des', 'ia', 'iowan']\n",
        " -  0.07 242 ['minnesota', 'mn', 'minneapolis', 'state', 'startribune']\n",
        " -  0.05 695 ['texas', 'dallas', 'austin', 'state', 'houston']\n",
        " -  0.05 295 ['wisconsin', 'milwaukee', 'madison', 'state', 'wi']\n",
        " -  0.05 214 ['georgia', 'atlanta', 'ga', 'ajc', 'state']\n",
        " -  0.04 289 ['nh', 'hampshire', 'state', 'manchester', 'republican']\n"
       ]
      }
     ],
     "prompt_number": 24
    },
    {
     "cell_type": "markdown",
     "metadata": {},
     "source": [
      "## What can we glean from this?\n",
      "\n",
      "The 'score' here is the product of user_interest and community_interest.\n",
      "Twitter is a directed network, our objective function rewards relationships \n",
      "where an account follows many people in a community and many people in the \n",
      "community follow the account, a reciprocal_interest function.\n",
      "\n",
      "What can we glean from this? I'm not really sure. But there are a few things worth \n",
      "mentioning.\n",
      "\n",
      "The DNC is aligned heavily with volunteers, colleges, and the news media.\n",
      "And then, to a less extent, supportive and swing states.\n",
      "\n",
      "The RNC is aligned primarily with the media and conservatives, \n",
      "after this a mix of support and swing states.\n",
      "\n",
      "We'll use the communities closest to each party as features (landmarks) \n",
      "to measure similarity.\n",
      "Let's look at accounts similar to the respective parties:"
     ]
    },
    {
     "cell_type": "code",
     "collapsed": false,
     "input": [
      "def users_top_users(user_id, scores, feature_ids):\n",
      "    assert scores['score'].min() >= 0\n",
      "    scores = scores.groupby('user_id', \n",
      "        {'score':gl.aggregate.CONCAT('community_id', 'score')},\n",
      "        {'num_features':gl.aggregate.COUNT('community_id')})\n",
      "    scores = scores[scores['num_features'] > len(feature_ids) * .20]\n",
      "    user_score = scores[scores['user_id'] == user_id][0]\n",
      "    def distance(row):\n",
      "        total_distance = 0\n",
      "        for x in feature_ids:\n",
      "            score1 = user_score['score'].get(x)\n",
      "            score2 = row['score'].get(x)\n",
      "            if score1 and score2:\n",
      "                dis = abs(score1 - score2)\n",
      "            elif score1 or score2:\n",
      "                dis = (score1 or score2) * 2\n",
      "            else:\n",
      "                dis = 0\n",
      "            total_distance+=dis\n",
      "        return total_distance\n",
      "    scores['distance'] = scores.apply(distance)\n",
      "    scores = scores.join(gw.verticy_descriptions, {'user_id':'__id'})\n",
      "    scores['distance'] = (scores['distance'] - scores['distance'].mean()) \\\n",
      "        / (scores['distance'].std())\n",
      "    return scores.sort('distance')\n",
      "\n",
      "feature_ids = list(rep_communities['community_id'][:5])\n",
      "feature_ids += list(dem_communities['community_id'][:5])\n",
      "feature_ids = list(set(feature_ids))\n",
      "\n",
      "print '\\nAccounts similar to the DNC:'\n",
      "dem_users = users_top_users(dem_id, user_community_scores, feature_ids)\n",
      "for x in dem_users[:10]:\n",
      "    print ' - ', str(x['distance'])[:4], x['screen_name'], '-', x['description'][:75]\n",
      "print ''\n",
      "\n",
      "print 'Accounts similar to the RNC:'\n",
      "rep_users = users_top_users(rep_id, user_community_scores, feature_ids)\n",
      "for x in rep_users[:10]:\n",
      "    print ' - ', str(x['distance'])[:4], x['screen_name'], '-', x['description'][:75]\n",
      "print ''"
     ],
     "language": "python",
     "metadata": {},
     "outputs": [
      {
       "output_type": "stream",
       "stream": "stdout",
       "text": [
        "\n",
        "Accounts similar to the DNC:\n",
        " - "
       ]
      },
      {
       "output_type": "stream",
       "stream": "stdout",
       "text": [
        " -5.4 TheDemocrats - This is the official Twitter account of the Democratic Party. Follow our tw\n",
        " -  -4.1 OFA_HQ - \n",
        " -  -3.9 Messina2012 - 2012 Obama Campaign Manager, former White House Deputy Chief of Staff. Prou\n",
        " -  -3.9 jeremybird - Founding Partner w @270Strategies; Senior Advisor w @BGTX; Former National \n",
        " -  -3.8 dscc - Democratic Senatorial Campaign Committee | Committed to Electing a Democrat\n",
        " -  -3.7 CollegeDems - College Democrats of America | The official youth branch of the Democratic \n",
        " -  -3.6 woodhouseb - President, Americans United for Change and American Bridge, former DNC  Com\n",
        " -  -3.6 DNCYouthCouncil - The official Twitter page of the DNC Youth Council. We work to increase you\n",
        " -  -3.4 MarlonDMarshall - Kansas Jayhawk for life, grassroots organizer, sports fan, proud St. Louis \n",
        " -  -3.4 DWStweets - Congresswoman Debbie Wasserman Schultz of Florida. Chair of @TheDemocrats (\n",
        "\n",
        "Accounts similar to the RNC:\n",
        " - "
       ]
      },
      {
       "output_type": "stream",
       "stream": "stdout",
       "text": [
        " -3.4 GOP - Updates from the Republican National Committee.\n",
        " -  -3.3 DanaPerino - Fox News contributor, co-host of The Five, Prez of Perino & Co. Fmr Press S\n",
        " -  -3.3 amandacarpenter - Communications Director for Ted Cruz. Proud DeMint alum. Former reporter. L\n",
        " -  -3.2 Senate_GOPs - News and updates from Republican senators and their staff.\n",
        " -  -3.1 Heritage - A think tank devoted to the principles of free enterprise, limited governme\n",
        " -  -3.1 CatoInstitute - A public policy research organization dedicated to individual liberty, limi\n",
        " -  -3.1 EWErickson - Romans 1:16.  Talker (WSB Radio).  Writer (RedState).  As Seen on TV (Fox N\n",
        " -  -3.1 michellemalkin - Little brown woman with a big mouth. Old Media ink-stained wretch. New Medi\n",
        " -  -3.1 brithume - Senior Political Analyst, Fox News Channel. Arguments welcome. Name callers\n",
        " -  -3.1 MicheleBachmann - Wife, mom, foster mom, former tax attorney, small business owner, former Co\n",
        "\n"
       ]
      }
     ],
     "prompt_number": 25
    },
    {
     "cell_type": "markdown",
     "metadata": {},
     "source": [
      "## Accounts of interest to both sides\n",
      "\n",
      "Now lets look for accounts of interest to both the DNC and RNC, so called swing accounts:"
     ]
    },
    {
     "cell_type": "code",
     "collapsed": false,
     "input": [
      "def users_in_between(distances):\n",
      "    n_dimensions = len(distances)\n",
      "    _distances = distances[0]\n",
      "    for x in distances[1:]:\n",
      "        _distances = _distances.append(x)\n",
      "    distances = _distances\n",
      "    distances = distances.groupby('user_id', {'distances':gl.aggregate.CONCAT('distance')})\n",
      "    def between(row):\n",
      "        if len(row['distances']) != n_dimensions:\n",
      "            return None\n",
      "        x = gl.SArray(row['distances'])\n",
      "        if x.std() > .15:\n",
      "            return None\n",
      "        return x.mean() + x.std()\n",
      "    distances['distance'] = distances.apply(between)\n",
      "    distances = distances.dropna().join(gw.verticy_descriptions, {'user_id':'__id'})\n",
      "    return distances.sort('distance')\n",
      "\n",
      "print \"\\nOf interest to the DNC and RNC:\\n\"\n",
      "equidistant_users = users_in_between([dem_users, rep_users])\n",
      "for x in equidistant_users[:10]:\n",
      "    print ' - ', x['screen_name'], '-', x['description'][:100]"
     ],
     "language": "python",
     "metadata": {},
     "outputs": [
      {
       "output_type": "stream",
       "stream": "stdout",
       "text": [
        "\n",
        "Of interest to the DNC and RNC:\n",
        "\n",
        " - "
       ]
      },
      {
       "output_type": "stream",
       "stream": "stdout",
       "text": [
        " BFischerMartin - Journalist - Fmr Managing Editor of Politics @NBCNews & longtime EP of @MeetthePress '02-'13. NOLA b\n",
        " -  njhotline - The official home of National Journal Hotline on Twitter.\n",
        " -  NBCNews - A leading source of global news and information for more than 75 years. Have a news tip or question?\n",
        " -  shiracenter - @RollCall Politics Editor. @HarvardIOP Fellow 2014. Yinzer. Wife of @elicenter, used to tweet as @sh\n",
        " -  danbalz - Husband. Father. Political Reporter @washingtonpost. Author of Collision 2012: Obama vs. Romney and \n",
        " -  greggiroux - Bloomberg Politics (@bpolitics) reporter. Campaigns/elections, political $, Congress, data/chart ner\n",
        " -  GStephanopoulos - @GMA Anchor, @ThisWeekABC Anchor and Chief Anchor of @ABC\n",
        " -  ThePlumLineGS - A blog about politics, politics, and politics\n",
        " -  JDBmsnbc - The Rundown with @jdbalart airs Monday through Friday from 9 a.m. ET to 11 a.m. ET on @msnbc. Follow\n",
        " -  alexanderiburns - \n"
       ]
      }
     ],
     "prompt_number": 33
    },
    {
     "cell_type": "code",
     "collapsed": false,
     "input": [],
     "language": "python",
     "metadata": {},
     "outputs": []
    }
   ],
   "metadata": {}
  }
 ]
}